{
 "cells": [
  {
   "cell_type": "code",
   "execution_count": 1,
   "id": "fluid-burden",
   "metadata": {},
   "outputs": [],
   "source": [
    "import pandas as pd\n",
    "import os\n",
    "import matplotlib.pyplot as plt\n",
    "\n",
    "all_data = pd.DataFrame()\n",
    "data = pd.DataFrame()"
   ]
  },
  {
   "cell_type": "code",
   "execution_count": 2,
   "id": "protected-airline",
   "metadata": {},
   "outputs": [],
   "source": [
    "path = os.getcwd()\n",
    "files = os.listdir(path)\n",
    "files_csv = [f for f in files if f[-3:] == 'CSV']\n",
    "\n",
    "for file in files_csv: \n",
    "    with open(file) as fin, open('temp.csv', 'w') as fout:\n",
    "        for line in fin.readlines()[4:]: # remove the first 5 lines\n",
    "            fout.write(line)\n",
    "        \n",
    "all_data = pd.read_csv('temp.csv')"
   ]
  },
  {
   "cell_type": "code",
   "execution_count": 3,
   "id": "brutal-defeat",
   "metadata": {},
   "outputs": [],
   "source": [
    "all_data.rename(columns={ all_data.columns[0]: \"Record\" }, inplace = True)\n",
    "data['Record'] = all_data['Record']"
   ]
  },
  {
   "cell_type": "code",
   "execution_count": 4,
   "id": "subject-acoustic",
   "metadata": {},
   "outputs": [],
   "source": [
    "data['Voltage'] = (data['Record'] - 128) * 3.8\n",
    "data.drop('Record', axis=1, inplace=True)"
   ]
  },
  {
   "cell_type": "code",
   "execution_count": 5,
   "id": "lonely-yellow",
   "metadata": {},
   "outputs": [],
   "source": [
    "data.insert(0, 'Time', range(1, len(data)+1))"
   ]
  },
  {
   "cell_type": "code",
   "execution_count": 6,
   "id": "ambient-tribune",
   "metadata": {},
   "outputs": [],
   "source": [
    "data['Time'] = pd.to_datetime(data['Time'], unit='ms').dt.time \n",
    "data.set_index('Time', inplace=True)"
   ]
  },
  {
   "cell_type": "code",
   "execution_count": 7,
   "id": "finite-government",
   "metadata": {},
   "outputs": [],
   "source": [
    "data.to_csv('Voltage_Final.csv')\n",
    "os.remove('temp.csv')"
   ]
  },
  {
   "cell_type": "code",
   "execution_count": 8,
   "id": "first-beverage",
   "metadata": {},
   "outputs": [
    {
     "data": {
      "image/png": "[encoded data removed]",
      "text/plain": [
       "<Figure size 432x288 with 1 Axes>"
      ]
     },
     "metadata": {
      "needs_background": "light"
     },
     "output_type": "display_data"
    }
   ],
   "source": [
    "data.plot(kind='line', legend=None)\n",
    "plt.xticks(color='C0', rotation='vertical')\n",
    "plt.xlabel('Time (mS)', color='C0', size=10)\n",
    "plt.yticks(color='C0')\n",
    "plt.tight_layout(pad=2)\n",
    "plt.title('Recorded Voltage', color='C0')\n",
    "plt.ylabel('Voltage (Vpp)', color='C0', size=10)\n",
    "plt.grid('on', linestyle='--')\n",
    "\n",
    "plt.show()"
   ]
  },
  {
   "cell_type": "code",
   "execution_count": 9,
   "id": "olympic-camcorder",
   "metadata": {},
   "outputs": [
    {
     "data": {
      "text/html": [
       "<div>\n",
       "<style scoped>\n",
       "    .dataframe tbody tr th:only-of-type {\n",
       "        vertical-align: middle;\n",
       "    }\n",
       "\n",
       "    .dataframe tbody tr th {\n",
       "        vertical-align: top;\n",
       "    }\n",
       "\n",
       "    .dataframe thead th {\n",
       "        text-align: right;\n",
       "    }\n",
       "</style>\n",
       "<table border=\"1\" class=\"dataframe\">\n",
       "  <thead>\n",
       "    <tr style=\"text-align: right;\">\n",
       "      <th></th>\n",
       "      <th>Voltage</th>\n",
       "    </tr>\n",
       "    <tr>\n",
       "      <th>Time</th>\n",
       "      <th></th>\n",
       "    </tr>\n",
       "  </thead>\n",
       "  <tbody>\n",
       "    <tr>\n",
       "      <th>00:00:00.001000</th>\n",
       "      <td>-182.4</td>\n",
       "    </tr>\n",
       "    <tr>\n",
       "      <th>00:00:00.002000</th>\n",
       "      <td>-102.6</td>\n",
       "    </tr>\n",
       "    <tr>\n",
       "      <th>00:00:00.003000</th>\n",
       "      <td>0.0</td>\n",
       "    </tr>\n",
       "    <tr>\n",
       "      <th>00:00:00.004000</th>\n",
       "      <td>95.0</td>\n",
       "    </tr>\n",
       "    <tr>\n",
       "      <th>00:00:00.005000</th>\n",
       "      <td>186.2</td>\n",
       "    </tr>\n",
       "    <tr>\n",
       "      <th>...</th>\n",
       "      <td>...</td>\n",
       "    </tr>\n",
       "    <tr>\n",
       "      <th>00:01:50.996000</th>\n",
       "      <td>163.4</td>\n",
       "    </tr>\n",
       "    <tr>\n",
       "      <th>00:01:50.997000</th>\n",
       "      <td>68.4</td>\n",
       "    </tr>\n",
       "    <tr>\n",
       "      <th>00:01:50.998000</th>\n",
       "      <td>-34.2</td>\n",
       "    </tr>\n",
       "    <tr>\n",
       "      <th>00:01:50.999000</th>\n",
       "      <td>-129.2</td>\n",
       "    </tr>\n",
       "    <tr>\n",
       "      <th>00:01:51</th>\n",
       "      <td>-224.2</td>\n",
       "    </tr>\n",
       "  </tbody>\n",
       "</table>\n",
       "<p>111000 rows × 1 columns</p>\n",
       "</div>"
      ],
      "text/plain": [
       "                 Voltage\n",
       "Time                    \n",
       "00:00:00.001000   -182.4\n",
       "00:00:00.002000   -102.6\n",
       "00:00:00.003000      0.0\n",
       "00:00:00.004000     95.0\n",
       "00:00:00.005000    186.2\n",
       "...                  ...\n",
       "00:01:50.996000    163.4\n",
       "00:01:50.997000     68.4\n",
       "00:01:50.998000    -34.2\n",
       "00:01:50.999000   -129.2\n",
       "00:01:51          -224.2\n",
       "\n",
       "[111000 rows x 1 columns]"
      ]
     },
     "execution_count": 9,
     "metadata": {},
     "output_type": "execute_result"
    }
   ],
   "source": [
    "data"
   ]
  },
  {
   "cell_type": "code",
   "execution_count": null,
   "id": "overall-stewart",
   "metadata": {},
   "outputs": [],
   "source": []
  }
 ],
 "metadata": {
  "kernelspec": {
   "display_name": "Python 3",
   "language": "python",
   "name": "python3"
  },
  "language_info": {
   "codemirror_mode": {
    "name": "ipython",
    "version": 3
   },
   "file_extension": ".py",
   "mimetype": "text/x-python",
   "name": "python",
   "nbconvert_exporter": "python",
   "pygments_lexer": "ipython3",
   "version": "3.9.1"
  }
 },
 "nbformat": 4,
 "nbformat_minor": 5
}
